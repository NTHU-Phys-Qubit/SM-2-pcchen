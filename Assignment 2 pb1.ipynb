{
 "cells": [
  {
   "cell_type": "code",
   "execution_count": 1,
   "metadata": {},
   "outputs": [
    {
     "name": "stdout",
     "output_type": "stream",
     "text": [
      "=================================================\n",
      "2  dies with  10  sides\n",
      "Number of trials is  1000\n",
      "Theorical mean =  11.0\n",
      "Theorical variance =  16.5\n",
      "Theorical standarvariation =  4.06201920231798\n",
      "Experiment mean =  11.173\n",
      "Experiment variance =  16.603071000000003\n",
      "Experiment standarvariation =  4.074686613716446\n",
      "=================================================\n",
      "10  dies with  20  sides\n",
      "Number of trials is  10000\n",
      "Theorical mean =  105.0\n",
      "Theorical variance =  332.5\n",
      "Theorical standarvariation =  18.23458252881047\n",
      "Experiment mean =  105.112\n",
      "Experiment variance =  331.5670559999999\n",
      "Experiment standarvariation =  18.208982838148867\n"
     ]
    }
   ],
   "source": [
    "import random\n",
    "import time\n",
    "\n",
    "def NDieS(n, sides, trials):\n",
    "    \n",
    "    print(\"=================================================\")\n",
    "    print( n,\" dies with \",sides,\" sides\")\n",
    "    print(\"Number of trials is \",trials)\n",
    "    \n",
    "    histogram = []\n",
    "    \n",
    "    for i in range(sides*n+1):\n",
    "        histogram.append(0)\n",
    "    \n",
    "    for q in range(trials):\n",
    "        a1=0\n",
    "        for p in range(n):\n",
    "            temp = random.randint(1,sides)\n",
    "            a1 = a1 + temp\n",
    "        histogram[a1] = histogram[a1] + 1\n",
    "    #test finish\n",
    "    \n",
    "    theory_mean = n*(sides+1)/2\n",
    "    theory_var = n*(sides+1)*(sides-1)/12\n",
    "    theory_std = theory_var ** 0.5\n",
    "    print (\"Theorical mean = \", theory_mean)\n",
    "    print (\"Theorical variance = \", theory_var)\n",
    "    print (\"Theorical standarvariation = \", theory_std)\n",
    "    exp_tot = 0\n",
    "    exp_var = 0\n",
    "    for i in range (n , n*sides+1):\n",
    "        exp_tot = exp_tot + i*histogram[i]\n",
    "    exp_mean = exp_tot/trials\n",
    "    for i in range (n, n*sides+1):\n",
    "        exp_var = exp_var + (i-exp_mean)**2*histogram[i]/trials\n",
    "    exp_std = exp_var**0.5\n",
    "    \n",
    "    print (\"Experiment mean = \", exp_mean)\n",
    "    print (\"Experiment variance = \", exp_var)\n",
    "    print (\"Experiment standarvariation = \", exp_std)\n",
    "  \n",
    "\n",
    "NDieS(2, 10, 1000)\n",
    "NDieS(10, 20, 10000)\n"
   ]
  },
  {
   "cell_type": "code",
   "execution_count": 2,
   "metadata": {},
   "outputs": [
    {
     "name": "stdout",
     "output_type": "stream",
     "text": [
      "=================================================\n",
      "2  dies with  2  sides\n",
      "Number of trials is  1000\n",
      "Theorical mean =  3.0\n",
      "Theorical variance =  0.5\n",
      "Theorical standarvariation =  0.7071067811865476\n",
      "Experiment mean =  3.001\n",
      "Experiment variance =  0.512999\n",
      "Experiment standarvariation =  0.7162394850886119\n",
      "=================================================\n",
      "5  dies with  2  sides\n",
      "Number of trials is  1000\n",
      "Theorical mean =  7.5\n",
      "Theorical variance =  1.25\n",
      "Theorical standarvariation =  1.118033988749895\n",
      "Experiment mean =  7.56\n",
      "Experiment variance =  1.2504000000000002\n",
      "Experiment standarvariation =  1.118212859879549\n",
      "=================================================\n",
      "10  dies with  2  sides\n",
      "Number of trials is  1000\n",
      "Theorical mean =  15.0\n",
      "Theorical variance =  2.5\n",
      "Theorical standarvariation =  1.5811388300841898\n",
      "Experiment mean =  14.994\n",
      "Experiment variance =  2.439964\n",
      "Experiment standarvariation =  1.5620384118196324\n"
     ]
    }
   ],
   "source": [
    "NDieS(2, 2, 1000)\n",
    "NDieS(5, 2, 1000)\n",
    "NDieS(10, 2, 1000)\n"
   ]
  },
  {
   "cell_type": "code",
   "execution_count": null,
   "metadata": {},
   "outputs": [],
   "source": []
  }
 ],
 "metadata": {
  "kernelspec": {
   "display_name": "Python 3",
   "language": "python",
   "name": "python3"
  },
  "language_info": {
   "codemirror_mode": {
    "name": "ipython",
    "version": 3
   },
   "file_extension": ".py",
   "mimetype": "text/x-python",
   "name": "python",
   "nbconvert_exporter": "python",
   "pygments_lexer": "ipython3",
   "version": "3.6.4"
  }
 },
 "nbformat": 4,
 "nbformat_minor": 2
}
