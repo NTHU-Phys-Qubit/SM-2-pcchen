{
 "cells": [
  {
   "cell_type": "code",
   "execution_count": null,
   "metadata": {},
   "outputs": [],
   "source": [
    "import random\n",
    "import time"
   ]
  },
  {
   "cell_type": "code",
   "execution_count": 20,
   "metadata": {},
   "outputs": [
    {
     "name": "stdout",
     "output_type": "stream",
     "text": [
      "=============================================\n",
      "One dice with  4  sides. One with 6 sides.\n",
      "We roll both dies for  1000  times.\n",
      "2  appear  44 times.\n",
      "3  appear  74 times.\n",
      "4  appear  123 times.\n",
      "5  appear  155 times.\n",
      "6  appear  193 times.\n",
      "7  appear  169 times.\n",
      "8  appear  117 times.\n",
      "9  appear  86 times.\n",
      "10  appear  39 times.\n"
     ]
    }
   ],
   "source": [
    "def TwoDies(s1,s2,trials):\n",
    "    print(\"=============================================\")\n",
    "    print(\"One dice with \",s1,\" sides.\",\"One with\", s2,\"sides.\")\n",
    "    print(\"We roll both dies for \",trials, \" times.\")\n",
    "    \n",
    "    #test start\n",
    "    histogram =[]\n",
    "    for i in range(s1+s2+1):\n",
    "        histogram.append(0)\n",
    "    \n",
    "    for q in range(trials):\n",
    "        temp1 = random.randint(1,s1)\n",
    "        temp2 = random.randint(1,s2)\n",
    "        histogram[temp1+temp2] = histogram[temp1+temp2] +1\n",
    "    #test finish\n",
    "    \n",
    "    for i in range(2,s1+s2+1):\n",
    "        print(i,\" appears \",histogram[i] , \"times.\")\n",
    "    \n",
    "TwoDies(4,6,1000)"
   ]
  },
  {
   "cell_type": "code",
   "execution_count": 23,
   "metadata": {},
   "outputs": [
    {
     "name": "stdout",
     "output_type": "stream",
     "text": [
      "=============================================\n",
      "First dice with  6  sides. Second with 6 sides. Last with 6 sides.\n",
      "We roll both dies for  1000  times.\n",
      "3  appears  2 times.\n",
      "4  appears  14 times.\n",
      "5  appears  25 times.\n",
      "6  appears  33 times.\n",
      "7  appears  75 times.\n",
      "8  appears  102 times.\n",
      "9  appears  98 times.\n",
      "10  appears  133 times.\n",
      "11  appears  115 times.\n",
      "12  appears  113 times.\n",
      "13  appears  114 times.\n",
      "14  appears  78 times.\n",
      "15  appears  49 times.\n",
      "16  appears  28 times.\n",
      "17  appears  17 times.\n",
      "18  appears  4 times.\n",
      "=============================================\n",
      "First dice with  4  sides. Second with 5 sides. Last with 5 sides.\n",
      "We roll both dies for  1000  times.\n",
      "3  appears  7 times.\n",
      "4  appears  23 times.\n",
      "5  appears  57 times.\n",
      "6  appears  92 times.\n",
      "7  appears  108 times.\n",
      "8  appears  122 times.\n",
      "9  appears  145 times.\n",
      "10  appears  157 times.\n",
      "11  appears  122 times.\n",
      "12  appears  87 times.\n",
      "13  appears  51 times.\n",
      "14  appears  22 times.\n",
      "15  appears  7 times.\n"
     ]
    }
   ],
   "source": [
    "def ThrDies(s1, s2, s3, trials):\n",
    "    print(\"=============================================\")\n",
    "    print(\"First dice with \",s1,\" sides.\",\"Second with\", s2,\"sides.\", \"Last with\", s2, \"sides.\")\n",
    "    print(\"We roll both dies for \",trials, \" times.\")\n",
    "    \n",
    "    #test start\n",
    "    histogram =[]\n",
    "    for i in range(s1+s2+s3+1):\n",
    "        histogram.append(0)\n",
    "        \n",
    "    for q in range(trials):\n",
    "        temp1 = random.randint(1,s1)\n",
    "        temp2 = random.randint(1,s2)\n",
    "        temp3 = random.randint(1,s3)\n",
    "        tot = temp1 + temp2 +temp3\n",
    "        histogram[tot] = histogram[tot] + 1\n",
    "    \n",
    "    #test finish\n",
    "    \n",
    "    for i in range(3,s1+s2+s3+1):\n",
    "        print(i,\" appears \",histogram[i] , \"times.\")\n",
    "\n",
    "ThrDies(6,6,6,1000)\n",
    "ThrDies(4,5,6,1000)"
   ]
  },
  {
   "cell_type": "code",
   "execution_count": null,
   "metadata": {},
   "outputs": [],
   "source": []
  }
 ],
 "metadata": {
  "kernelspec": {
   "display_name": "Python 3",
   "language": "python",
   "name": "python3"
  },
  "language_info": {
   "codemirror_mode": {
    "name": "ipython",
    "version": 3
   },
   "file_extension": ".py",
   "mimetype": "text/x-python",
   "name": "python",
   "nbconvert_exporter": "python",
   "pygments_lexer": "ipython3",
   "version": "3.6.4"
  }
 },
 "nbformat": 4,
 "nbformat_minor": 2
}
